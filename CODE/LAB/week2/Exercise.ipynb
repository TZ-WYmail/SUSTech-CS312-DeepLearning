{
 "cells": [
  {
   "cell_type": "markdown",
   "id": "fdd9ac2a",
   "metadata": {},
   "source": [
    "# Matrix-Vector Dot Product\n",
    "- Easy\n",
    "- Linear Algebra\n",
    "\n",
    "- Write a Python function that computes the dot product of a matrix and a vector. The function should return a list representing the resulting vector if the operation is valid, or -1 if the matrix and vector dimensions are incompatible. A matrix (a list of lists) can be dotted with a vector (a list) only if the number of columns in the matrix equals the length of the vector. For example, an n x m matrix requires a vector of length m."
   ]
  },
  {
   "cell_type": "code",
   "execution_count": 1,
   "id": "66d02d31",
   "metadata": {},
   "outputs": [],
   "source": [
    "import numpy as np"
   ]
  },
  {
   "cell_type": "code",
   "execution_count": null,
   "id": "3aedd017",
   "metadata": {},
   "outputs": [],
   "source": [
    "def matrix_dot_vector(a: list[list[int|float]], b: list[int|float]) -> list[int|float]:\n",
    "\t# Return a list where each element is the dot product of a row of 'a' with 'b'.\n",
    "\t# If the number of columns in 'a' does not match the length of 'b', return -1.\n",
    "    pass"
   ]
  },
  {
   "cell_type": "code",
   "execution_count": 5,
   "id": "80d71eb6",
   "metadata": {},
   "outputs": [],
   "source": [
    "# answer\n",
    "def matrix_dot_vector(a, b):\n",
    "    for row in a:\n",
    "        if len(row) != len(b):\n",
    "            return -1\n",
    "    np_a = np.array(a)\n",
    "    np_b = np.array(b)\n",
    "    return np.dot(np_a, np_b).tolist()\n"
   ]
  },
  {
   "cell_type": "code",
   "execution_count": 8,
   "id": "4dce04d7",
   "metadata": {},
   "outputs": [
    {
     "name": "stdout",
     "output_type": "stream",
     "text": [
      "[5, 10]\n"
     ]
    }
   ],
   "source": [
    "a = np.array([[1, 2], [2, 4]])\n",
    "b = np.array([1, 2])\n",
    "print(matrix_dot_vector(a, b))  # [5, 10]"
   ]
  },
  {
   "cell_type": "markdown",
   "id": "0c3a7f59",
   "metadata": {},
   "source": [
    "# Transpose Matrix\n",
    "\n",
    "## Problem\n",
    "Given a 2-D integer array `matrix`, return **the transpose** of `matrix`.  \n",
    "The **transpose** of a matrix flips it over its main diagonal, switching the row and column indices.\n",
    "\n",
    "## Examples\n",
    "1. Input:  \\[\\[1,2,3\\],\\[4,5,6\\]\\]  \n",
    "   Output: \\[\\[1,4\\],\\[2,5\\],\\[3,6\\]\\]\n",
    "\n",
    "2. Input:  \\[\\[1,2\\],\\[3,4\\],\\[5,6\\]\\]  \n",
    "   Output: \\[\\[1,3,5\\],\\[2,4,6\\]\\]"
   ]
  },
  {
   "cell_type": "code",
   "execution_count": 2,
   "id": "dbed0418",
   "metadata": {},
   "outputs": [],
   "source": [
    "a = [[1,2,3],[4,5,6]]"
   ]
  },
  {
   "cell_type": "code",
   "execution_count": null,
   "id": "811297d7",
   "metadata": {},
   "outputs": [],
   "source": [
    "\n",
    "def transpose_matrix(a: list[list[int|float]]) -> list[list[int|float]]:\n",
    "\t# Return the transpose of matrix 'a'.\n",
    "    \n",
    "\treturn b\n",
    "print(transpose_matrix(a))  # [[1,4],[2,5],[3,6]]"
   ]
  },
  {
   "cell_type": "code",
   "execution_count": 6,
   "id": "ebfa0295",
   "metadata": {},
   "outputs": [
    {
     "name": "stdout",
     "output_type": "stream",
     "text": [
      "[[1, 4], [2, 5], [3, 6]]\n"
     ]
    }
   ],
   "source": [
    "\n",
    "import numpy as np\n",
    "def transpose_matrix(a: list[list[int|float]]) -> list[list[int|float]]:\n",
    "    n_a = np.array(a)\n",
    "    n_b = n_a.T\n",
    "    b = n_b.tolist()\n",
    "    return b\n",
    "print(transpose_matrix(a))  # [[1,4],[2,5],[3,6]]"
   ]
  },
  {
   "cell_type": "markdown",
   "id": "c7fb6e36",
   "metadata": {},
   "source": [
    "# Transpose of a Matrix  \n",
    "**Difficulty:** Easy  \n",
    "**Topics:** Linear Algebra  \n",
    "\n",
    "## Problem Description  \n",
    "Write a Python function that computes the **transpose** of a given matrix.\n",
    "\n",
    "### Example  \n",
    "**Input:**  \n",
    "```python\n",
    "[[1, 2, 3],\n",
    " [4, 5, 6]]"
   ]
  },
  {
   "cell_type": "code",
   "execution_count": null,
   "id": "822dfee7",
   "metadata": {},
   "outputs": [],
   "source": [
    "import numpy as np\n",
    "\n",
    "def reshape_matrix(a: list[list[int|float]], new_shape: tuple[int, int]) -> list[list[int|float]]:\n",
    "\t#Write your code here and return a python list after reshaping by using numpy's tolist() method\n",
    "\treturn reshaped_matrix\n",
    "\n",
    "a = [[1,2,3,4],[5,6,7,8]]\n",
    "new_shape = (4, 2)\n",
    "print(reshape_matrix(a, new_shape))  # [[1,2],[3,4],[5,6],[7,8]]"
   ]
  },
  {
   "cell_type": "code",
   "execution_count": 10,
   "id": "65ef3e26",
   "metadata": {},
   "outputs": [
    {
     "name": "stdout",
     "output_type": "stream",
     "text": [
      "[[1, 2], [3, 4], [5, 6], [7, 8]]\n"
     ]
    }
   ],
   "source": [
    "import numpy as np\n",
    "\n",
    "def reshape_matrix(a: list[list[int|float]], new_shape: tuple[int, int]) -> list[list[int|float]]:\n",
    "\t#Write your code here and return a python list after reshaping by using numpy's tolist() method\n",
    "\tif np.prod(new_shape) != np.prod(np.array(a).shape):\n",
    "\t\treturn []\n",
    "\tn_a=np.array(a)\n",
    "\tn_b=n_a.reshape(new_shape)\n",
    "\treshaped_matrix=n_b.tolist()\n",
    "\treturn reshaped_matrix\n",
    "\n",
    "a = [[1,2,3,4],[5,6,7,8]]\n",
    "new_shape = (4, 2)\n",
    "print(reshape_matrix(a, new_shape)) "
   ]
  },
  {
   "cell_type": "code",
   "execution_count": null,
   "id": "e0e58368",
   "metadata": {},
   "outputs": [],
   "source": []
  }
 ],
 "metadata": {
  "kernelspec": {
   "display_name": "GPU",
   "language": "python",
   "name": "python3"
  },
  "language_info": {
   "codemirror_mode": {
    "name": "ipython",
    "version": 3
   },
   "file_extension": ".py",
   "mimetype": "text/x-python",
   "name": "python",
   "nbconvert_exporter": "python",
   "pygments_lexer": "ipython3",
   "version": "3.12.9"
  }
 },
 "nbformat": 4,
 "nbformat_minor": 5
}
